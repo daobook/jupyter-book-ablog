{
 "cells": [
  {
   "cell_type": "markdown",
   "id": "32f786a8",
   "metadata": {},
   "source": [
    "# 在你的markdown文件中执行代码\n",
    "\n",
    "如果你想在这些 markdown 文件中加入计算内容。你可以使用 MyST Markdown 来定义单元，这些单元将在你的书构建时执行。Jupyter Book 使用 *jupytext* 来做这个。\n",
    "\n",
    "首先，向文件添加 Jupytext 元数据。例如，要将 Jupytext 元数据添加到这个 markdown 页面，运行这个命令：\n",
    "\n",
    "```sh\n",
    "jupyter-book myst init markdown.md\n",
    "```\n",
    "\n",
    "一旦一个 markdown 文件中包含了 Jupytext 元数据，你就可以在构建时添加以下指令来运行该代码：\n",
    "\n",
    "````\n",
    "```{code-cell}\n",
    "print(\"Here is some code to execute\")\n",
    "```\n",
    "````"
   ]
  },
  {
   "cell_type": "code",
   "execution_count": 1,
   "id": "9716bb1b",
   "metadata": {},
   "outputs": [
    {
     "name": "stdout",
     "output_type": "stream",
     "text": [
      "Here is some code to execute\n"
     ]
    }
   ],
   "source": [
    "print(\"Here is some code to execute\")"
   ]
  },
  {
   "cell_type": "markdown",
   "id": "53f14c9d",
   "metadata": {},
   "source": [
    "当你的书被构建时，任何 `{code-cell}` 块的内容都会被你的默认 Jupyter 内核执行，其输出将与你的其他内容一起显示。\n",
    "\n",
    "关于用 Jupyter Book 执行计算内容的更多信息。见 [MyST-NB文档](https://myst-nb.readthedocs.io/)。"
   ]
  }
 ],
 "metadata": {
  "jupytext": {
   "cell_metadata_filter": "-all",
   "formats": "md:myst",
   "text_representation": {
    "extension": ".md",
    "format_name": "myst",
    "format_version": 0.13,
    "jupytext_version": "1.11.5"
   }
  },
  "kernelspec": {
   "display_name": "python 3",
   "language": "python",
   "name": "python3"
  },
  "language_info": {
   "codemirror_mode": {
    "name": "ipython",
    "version": 3
   },
   "file_extension": ".py",
   "mimetype": "text/x-python",
   "name": "python",
   "nbconvert_exporter": "python",
   "pygments_lexer": "ipython3",
   "version": "3.9.5"
  },
  "source_map": [
   14,
   34,
   36
  ]
 },
 "nbformat": 4,
 "nbformat_minor": 5
}